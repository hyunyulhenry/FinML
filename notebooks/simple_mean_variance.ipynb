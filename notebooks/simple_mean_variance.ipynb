{
  "nbformat": 4,
  "nbformat_minor": 0,
  "metadata": {
    "colab": {
      "name": "simple_mean_variance.ipynb",
      "provenance": [],
      "collapsed_sections": [],
      "authorship_tag": "ABX9TyO8AONm/1lvhbZR3T/bSKx7",
      "include_colab_link": true
    },
    "kernelspec": {
      "name": "python3",
      "display_name": "Python 3"
    }
  },
  "cells": [
    {
      "cell_type": "markdown",
      "metadata": {
        "id": "view-in-github",
        "colab_type": "text"
      },
      "source": [
        "<a href=\"https://colab.research.google.com/github/yanghoonkim/FinML/blob/main/notebooks/simple_mean_variance.ipynb\" target=\"_parent\"><img src=\"https://colab.research.google.com/assets/colab-badge.svg\" alt=\"Open In Colab\"/></a>"
      ]
    },
    {
      "cell_type": "markdown",
      "metadata": {
        "id": "aNxXf04RW78o"
      },
      "source": [
        "## Install\r\n"
      ]
    },
    {
      "cell_type": "code",
      "metadata": {
        "colab": {
          "base_uri": "https://localhost:8080/"
        },
        "id": "kRZap8eE6Zer",
        "outputId": "d550f1c5-95e7-4416-e926-511864fe280a"
      },
      "source": [
        "!git clone https://github.com/yanghoonkim/FinML\r\n",
        "!mv /content/FinML/* .\r\n",
        "!rm -rf FinML\r\n",
        "\r\n",
        "!pip3 install -r requirements.txt"
      ],
      "execution_count": 1,
      "outputs": [
        {
          "output_type": "stream",
          "text": [
            "Cloning into 'FinML'...\n",
            "remote: Enumerating objects: 259, done.\u001b[K\n",
            "remote: Counting objects: 100% (259/259), done.\u001b[K\n",
            "remote: Compressing objects: 100% (196/196), done.\u001b[K\n",
            "remote: Total 259 (delta 120), reused 187 (delta 59), pack-reused 0\u001b[K\n",
            "Receiving objects: 100% (259/259), 52.50 KiB | 5.25 MiB/s, done.\n",
            "Resolving deltas: 100% (120/120), done.\n",
            "Requirement already satisfied: pandas in /usr/local/lib/python3.6/dist-packages (from -r requirements.txt (line 1)) (1.1.5)\n",
            "Requirement already satisfied: pandas-datareader in /usr/local/lib/python3.6/dist-packages (from -r requirements.txt (line 2)) (0.9.0)\n",
            "Requirement already satisfied: scipy in /usr/local/lib/python3.6/dist-packages (from -r requirements.txt (line 3)) (1.4.1)\n",
            "Requirement already satisfied: matplotlib in /usr/local/lib/python3.6/dist-packages (from -r requirements.txt (line 4)) (3.2.2)\n",
            "Requirement already satisfied: tqdm in /usr/local/lib/python3.6/dist-packages (from -r requirements.txt (line 5)) (4.41.1)\n",
            "Collecting dateparser\n",
            "\u001b[?25l  Downloading https://files.pythonhosted.org/packages/78/c4/b5ddc3eeac974d85055d88c1e6b62cc492fc1a93dbe3b66a45a756a7b807/dateparser-1.0.0-py2.py3-none-any.whl (279kB)\n",
            "\u001b[K     |████████████████████████████████| 286kB 6.0MB/s \n",
            "\u001b[?25hRequirement already satisfied: numpy>=1.15.4 in /usr/local/lib/python3.6/dist-packages (from pandas->-r requirements.txt (line 1)) (1.19.4)\n",
            "Requirement already satisfied: pytz>=2017.2 in /usr/local/lib/python3.6/dist-packages (from pandas->-r requirements.txt (line 1)) (2018.9)\n",
            "Requirement already satisfied: python-dateutil>=2.7.3 in /usr/local/lib/python3.6/dist-packages (from pandas->-r requirements.txt (line 1)) (2.8.1)\n",
            "Requirement already satisfied: lxml in /usr/local/lib/python3.6/dist-packages (from pandas-datareader->-r requirements.txt (line 2)) (4.2.6)\n",
            "Requirement already satisfied: requests>=2.19.0 in /usr/local/lib/python3.6/dist-packages (from pandas-datareader->-r requirements.txt (line 2)) (2.23.0)\n",
            "Requirement already satisfied: pyparsing!=2.0.4,!=2.1.2,!=2.1.6,>=2.0.1 in /usr/local/lib/python3.6/dist-packages (from matplotlib->-r requirements.txt (line 4)) (2.4.7)\n",
            "Requirement already satisfied: cycler>=0.10 in /usr/local/lib/python3.6/dist-packages (from matplotlib->-r requirements.txt (line 4)) (0.10.0)\n",
            "Requirement already satisfied: kiwisolver>=1.0.1 in /usr/local/lib/python3.6/dist-packages (from matplotlib->-r requirements.txt (line 4)) (1.3.1)\n",
            "Requirement already satisfied: regex!=2019.02.19 in /usr/local/lib/python3.6/dist-packages (from dateparser->-r requirements.txt (line 6)) (2019.12.20)\n",
            "Requirement already satisfied: tzlocal in /usr/local/lib/python3.6/dist-packages (from dateparser->-r requirements.txt (line 6)) (1.5.1)\n",
            "Requirement already satisfied: six>=1.5 in /usr/local/lib/python3.6/dist-packages (from python-dateutil>=2.7.3->pandas->-r requirements.txt (line 1)) (1.15.0)\n",
            "Requirement already satisfied: urllib3!=1.25.0,!=1.25.1,<1.26,>=1.21.1 in /usr/local/lib/python3.6/dist-packages (from requests>=2.19.0->pandas-datareader->-r requirements.txt (line 2)) (1.24.3)\n",
            "Requirement already satisfied: idna<3,>=2.5 in /usr/local/lib/python3.6/dist-packages (from requests>=2.19.0->pandas-datareader->-r requirements.txt (line 2)) (2.10)\n",
            "Requirement already satisfied: certifi>=2017.4.17 in /usr/local/lib/python3.6/dist-packages (from requests>=2.19.0->pandas-datareader->-r requirements.txt (line 2)) (2020.12.5)\n",
            "Requirement already satisfied: chardet<4,>=3.0.2 in /usr/local/lib/python3.6/dist-packages (from requests>=2.19.0->pandas-datareader->-r requirements.txt (line 2)) (3.0.4)\n",
            "Installing collected packages: dateparser\n",
            "Successfully installed dateparser-1.0.0\n"
          ],
          "name": "stdout"
        }
      ]
    },
    {
      "cell_type": "markdown",
      "metadata": {
        "id": "sAkK4xveWvLP"
      },
      "source": [
        "# Config\r\n",
        "아래에서 symbol에 원하는 종목의 symbol을, \r\n",
        "start_date와 end_date에 분석할 기간의 시작시점과 끝 시점을 넣어주세요."
      ]
    },
    {
      "cell_type": "code",
      "metadata": {
        "id": "-nZpiEWOVgx3"
      },
      "source": [
        "args = {\r\n",
        "  \"symbols\": [\r\n",
        "    \"AAPL\",\r\n",
        "    \"TSLA\",\r\n",
        "  ],\r\n",
        "  \"start_date\": \"2020.01.01\",\r\n",
        "  \"end_date\": \"2020.12.31\"\r\n",
        "}"
      ],
      "execution_count": 2,
      "outputs": []
    },
    {
      "cell_type": "code",
      "metadata": {
        "id": "-MJaBODAaE-z"
      },
      "source": [
        "import os\r\n",
        "import json\r\n",
        "\r\n",
        "# save config.json\r\n",
        "base_dir = os.getcwd()\r\n",
        "with open(os.path.join(base_dir, \"config.json\"), \"w\") as config:\r\n",
        "    json.dump(args, config)"
      ],
      "execution_count": 3,
      "outputs": []
    },
    {
      "cell_type": "markdown",
      "metadata": {
        "id": "wdToN4i2XBii"
      },
      "source": [
        "# 메인 코드 실행"
      ]
    },
    {
      "cell_type": "code",
      "metadata": {
        "colab": {
          "base_uri": "https://localhost:8080/",
          "height": 279
        },
        "id": "IoeuXBop9mjn",
        "outputId": "bbbb66b9-7836-40e1-b310-bd9f8dcca868"
      },
      "source": [
        "import os\r\n",
        "import json\r\n",
        "import dateparser\r\n",
        "\r\n",
        "from finml.data_reader import StockMarket\r\n",
        "from finml.portfolio_optimization import SimpleMeanVariance\r\n",
        "from finml.utils.path_utils import set_path\r\n",
        "\r\n",
        "########################################################################################################################\r\n",
        "# INIT\r\n",
        "########################################################################################################################\r\n",
        "base_dir = os.getcwd()\r\n",
        "\r\n",
        "# read config\r\n",
        "with open(os.path.join(base_dir, \"config.json\"), \"r\") as config:\r\n",
        "    args = json.load(config)\r\n",
        "\r\n",
        "with open(os.path.join(base_dir, \"config_system.json\"), \"r\") as config_system:\r\n",
        "    args_system = json.load(config_system)\r\n",
        "\r\n",
        "# param\r\n",
        "pwd = os.getcwd()\r\n",
        "start_date = dateparser.parse(args['start_date'])\r\n",
        "end_date = dateparser.parse(args['end_date'])\r\n",
        "data_dir = set_path(os.path.join(pwd, args_system['path_dir']['data_dir']))\r\n",
        "log_dir = set_path(os.path.join(pwd, args_system['path_dir']['log_dir']))\r\n",
        "symbols = args['symbols']\r\n",
        "\r\n",
        "########################################################################################################################\r\n",
        "# MAIN\r\n",
        "########################################################################################################################\r\n",
        "# get data\r\n",
        "market = StockMarket(start_date=start_date, end_date=end_date, data_dir=data_dir)\r\n",
        "market.get_stock_price(symbols)\r\n",
        "market_mean, market_covariance, _ = market.get_stock_statistics()\r\n",
        "\r\n",
        "# simple mean-variance plot\r\n",
        "SMV = SimpleMeanVariance(market_mean, market_covariance)\r\n",
        "SMV.plot(show=True, save_path=log_dir)"
      ],
      "execution_count": 4,
      "outputs": [
        {
          "output_type": "display_data",
          "data": {
            "image/png": "[encoded data removed]",
            "text/plain": [
              "<Figure size 432x288 with 1 Axes>"
            ]
          },
          "metadata": {
            "tags": [],
            "needs_background": "light"
          }
        }
      ]
    },
    {
      "cell_type": "code",
      "metadata": {
        "id": "UY-7LSZvbeTC"
      },
      "source": [
        ""
      ],
      "execution_count": null,
      "outputs": []
    }
  ]
}